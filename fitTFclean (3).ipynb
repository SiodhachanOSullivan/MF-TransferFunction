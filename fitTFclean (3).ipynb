{
 "cells": [
  {
   "cell_type": "markdown",
   "metadata": {},
   "source": [
    "## initiation and preparation\n",
    "___"
   ]
  },
  {
   "cell_type": "code",
   "execution_count": 1,
   "metadata": {},
   "outputs": [
    {
     "ename": "ModuleNotFoundError",
     "evalue": "No module named 'cell_library'",
     "output_type": "error",
     "traceback": [
      "\u001b[1;31m---------------------------------------------------------------------------\u001b[0m",
      "\u001b[1;31mModuleNotFoundError\u001b[0m                       Traceback (most recent call last)",
      "Cell \u001b[1;32mIn[1], line 7\u001b[0m\n\u001b[0;32m      4\u001b[0m \u001b[38;5;28;01mfrom\u001b[39;00m \u001b[38;5;21;01mscipy\u001b[39;00m\u001b[38;5;21;01m.\u001b[39;00m\u001b[38;5;21;01moptimize\u001b[39;00m \u001b[38;5;28;01mimport\u001b[39;00m minimize\n\u001b[0;32m      6\u001b[0m \u001b[38;5;28;01mfrom\u001b[39;00m \u001b[38;5;21;01mmpl_toolkits\u001b[39;00m\u001b[38;5;21;01m.\u001b[39;00m\u001b[38;5;21;01mmplot3d\u001b[39;00m \u001b[38;5;28;01mimport\u001b[39;00m Axes3D\n\u001b[1;32m----> 7\u001b[0m \u001b[38;5;28;01mfrom\u001b[39;00m \u001b[38;5;21;01mcell_library\u001b[39;00m \u001b[38;5;28;01mimport\u001b[39;00m loadparams\n",
      "\u001b[1;31mModuleNotFoundError\u001b[0m: No module named 'cell_library'"
     ]
    }
   ],
   "source": [
    "import numpy as np\n",
    "import matplotlib.pyplot as plt\n",
    "from scipy.special import erf, erfc, erfcinv\n",
    "from scipy.optimize import minimize\n",
    "\n",
    "from mpl_toolkits.mplot3d import Axes3D\n",
    "from cell_library import loadparams"
   ]
  },
  {
   "cell_type": "code",
   "execution_count": null,
   "metadata": {},
   "outputs": [],
   "source": [
    "TC = np.load('data\\\\ExpTF_exc_Nstp40_new.npy').T\n",
    "RE = np.load('data\\\\ExpTF_inh_Nstp40_new.npy').T\n",
    "ve = np.linspace(0, 40, 40)\n",
    "vi = np.linspace(0, 170, 40)\n",
    "\n",
    "vve, vvi = np.meshgrid(ve, vi)"
   ]
  },
  {
   "cell_type": "code",
   "execution_count": null,
   "metadata": {},
   "outputs": [],
   "source": [
    "i = 10 # choose inhibitory input\n",
    "\n",
    "plt.plot(ve, TC[i], '-ob')\n",
    "plt.title(f'vi = {vi[i]:.2f} Hz')\n",
    "plt.xlabel('ve')\n",
    "plt.ylabel('vout TC')"
   ]
  },
  {
   "cell_type": "code",
   "execution_count": null,
   "metadata": {},
   "outputs": [],
   "source": [
    "ax = plt.axes(projection='3d')\n",
    "ax.plot3D(vvi.flatten(), vve.flatten(), TC.flatten(), 'ob', markersize=1,label='FE')\n",
    "ax.plot3D(vvi.flatten(), vve.flatten(), RE.flatten(), 'or', markersize=1,label='FI')\n",
    "\n",
    "ax.set_xlabel('vi')\n",
    "ax.set_ylabel('ve')\n",
    "ax.set_zlabel('vout')\n",
    "ax.legend();"
   ]
  },
  {
   "cell_type": "code",
   "execution_count": null,
   "metadata": {},
   "outputs": [],
   "source": [
    "plt.imshow(TC)\n",
    "plt.colorbar()"
   ]
  },
  {
   "cell_type": "code",
   "execution_count": null,
   "metadata": {},
   "outputs": [],
   "source": [
    "params = loadparams('thalamus_ACh')"
   ]
  },
  {
   "cell_type": "code",
   "execution_count": null,
   "metadata": {},
   "outputs": [],
   "source": [
    "params['TC']"
   ]
  },
  {
   "cell_type": "markdown",
   "metadata": {},
   "source": [
    "## theory and functions\n",
    "___"
   ]
  },
  {
   "cell_type": "markdown",
   "metadata": {},
   "source": [
    "$ \\mu_{Ge}(\\nu_e,\\nu_i)=\\nu_eK_e\\tau_eQ_e $\n",
    "\n",
    "$ \\mu_{Gi}(\\nu_e,\\nu_i)=\\nu_iK_i\\tau_iQ_i $\n",
    "\n",
    "$ \\mu_G(\\nu_e,\\nu_i)=\\mu_{Ge}+\\mu_{Gi}+g_L $\n",
    "\n",
    "$ \\tau_m^\\text{eff}(\\nu_e,\\nu_i)=\\frac{C_m}{\\mu_G} $\n",
    "\n",
    "$ \\mu_V=\\frac{\\mu_{Ge}E_e+\\mu_{Gi}E_i+g_LE_L-w}{\\mu_G} $\n",
    "\n",
    "$ \\mu_V=\\frac{\\mu_{Ge}E_e+\\mu_{Gi}E_i+g_LE_L-\\nu_\\text{out}\\tau_wb+aE_L}{\\mu_G+a} $\n",
    "\n",
    "$ \\sigma_V(\\nu_e,\\nu_i)=\\sqrt{\\sum_sK_s\\nu_s\\frac{(U_s\\cdot\\tau_s)^2}{2(\\tau_m^\\text{eff}+\\tau_s)}} $\n",
    "\n",
    "$ \\tau_V(\\nu_e,\\nu_i)=\\left(\\frac{\\sum_sK_s\\nu_s(U_s\\cdot\\tau_s)^2}{\\sum_sK_s\\nu_s(U_s\\cdot\\tau_s)^2/(\\tau_m^\\text{eff}+\\tau_s)}\\right) $\n",
    "\n",
    "$ U_s=\\frac{Q_s}{\\mu_G}(E_s-\\mu_V) $\n",
    "\n",
    "$ \\nu_\\text{out}=\\frac{1}{2\\tau_V}\\cdot\\text{Erfc}\\left(\\frac{V_\\text{thr}^\\text{eff}-\\mu_V}{\\sqrt{2}\\sigma_V}\\right) $\n",
    "\n",
    "$ V_\\text{thr}^\\text{eff}(\\mu_V,\\sigma_V,\\tau_V^N)=P_0+\\sum_{x\\in\\{\\mu_V,\\sigma_V,\\tau_V^N\\}}P_x\\cdot\\left(\\frac{x-x^0}{\\delta x^0}\\right)+\\sum_{x,y\\in\\{\\mu_V,\\sigma_V,\\tau_V^N\\}^2}P_{xy}\\cdot\\left(\\frac{x-x^0}{\\delta x^0}\\right)\\left(\\frac{y-y^0}{\\delta y^0}\\right) $\n",
    "\n",
    "$ \\text{MPF}:(\\nu_e,\\nu_i)\\longrightarrow(\\mu_V,\\sigma_V,\\tau_V,\\tau_V^N) $"
   ]
  },
  {
   "cell_type": "code",
   "execution_count": 2,
   "metadata": {},
   "outputs": [],
   "source": [
    "def MPF(typ,fexc,finh,fout):\n",
    "\n",
    "    p = params[ typ ]\n",
    "    P,Nexc,Ninh,Qe,Qi,Cm,El = p.P,p.Nexc,p.Ninh,p.Qe,p.Qi,p.Cm,p.El\n",
    "    a,b,Tw,Gl,Te,Ti,Ee,Ei = p.a,p.b,p.Tw,p.Gl,p.Te,p.Ti,p.Ee,p.Ei\n",
    "\n",
    "    fexc[fexc<1e-9]=1e-9\n",
    "    fe = fexc*Nexc\n",
    "    finh[finh<1e-9]=1e-9\n",
    "    fi = finh*Ninh\n",
    "\n",
    "\n",
    "    muGi = Qi*Ti*fi\n",
    "    muGe = Qe*Te*fe\n",
    "    muG = Gl+muGe+muGi\n",
    "    muV = (muGe*Ee+muGi*Ei+Gl*El - fout*Tw*b + a*El)/(muG+a)\n",
    "    \n",
    "    \n",
    "    muGn = muG/Gl\n",
    "    Tm = Cm/muG\n",
    "    \n",
    "    Ue =  Qe/muG*(Ee-muV)\n",
    "    Ui = Qi/muG*(Ei-muV)\n",
    "\n",
    "    sV = np.sqrt(fe*(Ue*Te)*(Ue*Te)/2./(Te+Tm)+fi*(Ui*Ti)*(Ui*Ti)/2./(Ti+Tm))\n",
    "\n",
    "    Tv = ( fe*(Ue*Te)*(Ue*Te) + fi*(Qi*Ui)*(Qi*Ui)) /( fe*(Ue*Te)*(Ue*Te)/(Te+Tm) + fi*(Qi*Ui)*(Qi*Ui)/(Ti+Tm) )\n",
    "    TvN = Tv*Gl/Cm\n",
    "\n",
    "    return muV, sV, Tv, TvN"
   ]
  },
  {
   "cell_type": "code",
   "execution_count": 3,
   "metadata": {},
   "outputs": [
    {
     "ename": "NameError",
     "evalue": "name 'params' is not defined",
     "output_type": "error",
     "traceback": [
      "\u001b[1;31m---------------------------------------------------------------------------\u001b[0m",
      "\u001b[1;31mNameError\u001b[0m                                 Traceback (most recent call last)",
      "Cell \u001b[1;32mIn[3], line 5\u001b[0m\n\u001b[0;32m      2\u001b[0m typ \u001b[38;5;241m=\u001b[39m \u001b[38;5;124m'\u001b[39m\u001b[38;5;124mTC\u001b[39m\u001b[38;5;124m'\u001b[39m\n\u001b[0;32m      3\u001b[0m xe, xi \u001b[38;5;241m=\u001b[39m \u001b[38;5;241m4\u001b[39m, \u001b[38;5;241m30\u001b[39m\n\u001b[1;32m----> 5\u001b[0m m, s, t, _ \u001b[38;5;241m=\u001b[39m \u001b[43mMPF\u001b[49m\u001b[43m(\u001b[49m\u001b[43mtyp\u001b[49m\u001b[43m,\u001b[49m\u001b[43m \u001b[49m\u001b[43mnp\u001b[49m\u001b[38;5;241;43m.\u001b[39;49m\u001b[43marray\u001b[49m\u001b[43m(\u001b[49m\u001b[43m[\u001b[49m\u001b[43mxe\u001b[49m\u001b[43m]\u001b[49m\u001b[43m)\u001b[49m\u001b[43m,\u001b[49m\u001b[43m \u001b[49m\u001b[43mnp\u001b[49m\u001b[38;5;241;43m.\u001b[39;49m\u001b[43marray\u001b[49m\u001b[43m(\u001b[49m\u001b[43m[\u001b[49m\u001b[43mxi\u001b[49m\u001b[43m]\u001b[49m\u001b[43m)\u001b[49m\u001b[43m,\u001b[49m\u001b[43m \u001b[49m\u001b[38;5;241;43m0\u001b[39;49m\u001b[43m)\u001b[49m\n\u001b[0;32m      6\u001b[0m \u001b[38;5;28mprint\u001b[39m(\u001b[38;5;124mf\u001b[39m\u001b[38;5;124m'\u001b[39m\u001b[38;5;124mMPF_\u001b[39m\u001b[38;5;132;01m{\u001b[39;00mtyp\u001b[38;5;132;01m}\u001b[39;00m\u001b[38;5;124m: (ve=\u001b[39m\u001b[38;5;132;01m{\u001b[39;00mxe\u001b[38;5;132;01m}\u001b[39;00m\u001b[38;5;124m, vi=\u001b[39m\u001b[38;5;132;01m{\u001b[39;00mxi\u001b[38;5;132;01m}\u001b[39;00m\u001b[38;5;124m)Hz -> (mu=\u001b[39m\u001b[38;5;132;01m{\u001b[39;00mm[\u001b[38;5;241m0\u001b[39m]\u001b[38;5;241m*\u001b[39m\u001b[38;5;241m1e3\u001b[39m\u001b[38;5;132;01m:\u001b[39;00m\u001b[38;5;124m.2f\u001b[39m\u001b[38;5;132;01m}\u001b[39;00m\u001b[38;5;124m, sigma=\u001b[39m\u001b[38;5;132;01m{\u001b[39;00ms[\u001b[38;5;241m0\u001b[39m]\u001b[38;5;241m*\u001b[39m\u001b[38;5;241m1e3\u001b[39m\u001b[38;5;132;01m:\u001b[39;00m\u001b[38;5;124m.2f\u001b[39m\u001b[38;5;132;01m}\u001b[39;00m\u001b[38;5;124m, tau=\u001b[39m\u001b[38;5;132;01m{\u001b[39;00mt[\u001b[38;5;241m0\u001b[39m]\u001b[38;5;241m*\u001b[39m\u001b[38;5;241m1e3\u001b[39m\u001b[38;5;132;01m:\u001b[39;00m\u001b[38;5;124m.2f\u001b[39m\u001b[38;5;132;01m}\u001b[39;00m\u001b[38;5;124m)mV\u001b[39m\u001b[38;5;124m'\u001b[39m)\n",
      "Cell \u001b[1;32mIn[2], line 3\u001b[0m, in \u001b[0;36mMPF\u001b[1;34m(typ, fexc, finh, fout)\u001b[0m\n\u001b[0;32m      1\u001b[0m \u001b[38;5;28;01mdef\u001b[39;00m \u001b[38;5;21mMPF\u001b[39m(typ,fexc,finh,fout):\n\u001b[1;32m----> 3\u001b[0m     p \u001b[38;5;241m=\u001b[39m \u001b[43mparams\u001b[49m[ typ ]\n\u001b[0;32m      4\u001b[0m     P,Nexc,Ninh,Qe,Qi,Cm,El \u001b[38;5;241m=\u001b[39m p\u001b[38;5;241m.\u001b[39mP,p\u001b[38;5;241m.\u001b[39mNexc,p\u001b[38;5;241m.\u001b[39mNinh,p\u001b[38;5;241m.\u001b[39mQe,p\u001b[38;5;241m.\u001b[39mQi,p\u001b[38;5;241m.\u001b[39mCm,p\u001b[38;5;241m.\u001b[39mEl\n\u001b[0;32m      5\u001b[0m     a,b,Tw,Gl,Te,Ti,Ee,Ei \u001b[38;5;241m=\u001b[39m p\u001b[38;5;241m.\u001b[39ma,p\u001b[38;5;241m.\u001b[39mb,p\u001b[38;5;241m.\u001b[39mTw,p\u001b[38;5;241m.\u001b[39mGl,p\u001b[38;5;241m.\u001b[39mTe,p\u001b[38;5;241m.\u001b[39mTi,p\u001b[38;5;241m.\u001b[39mEe,p\u001b[38;5;241m.\u001b[39mEi\n",
      "\u001b[1;31mNameError\u001b[0m: name 'params' is not defined"
     ]
    }
   ],
   "source": [
    "# test MPF function\n",
    "typ = 'TC'\n",
    "xe, xi = 4, 30\n",
    "\n",
    "m, s, t, _ = MPF(typ, np.array([xe]), np.array([xi]), 0)\n",
    "print(f'MPF_{typ}: (ve={xe}, vi={xi})Hz -> (mu={m[0]*1e3:.2f}, sigma={s[0]*1e3:.2f}, tau={t[0]*1e3:.2f})mV')"
   ]
  },
  {
   "cell_type": "code",
   "execution_count": 4,
   "metadata": {},
   "outputs": [
    {
     "ename": "NameError",
     "evalue": "name 'TC' is not defined",
     "output_type": "error",
     "traceback": [
      "\u001b[1;31m---------------------------------------------------------------------------\u001b[0m",
      "\u001b[1;31mNameError\u001b[0m                                 Traceback (most recent call last)",
      "Cell \u001b[1;32mIn[4], line 6\u001b[0m\n\u001b[0;32m      1\u001b[0m \u001b[38;5;66;03m#====== calculate MPF for TC/RE =======\u001b[39;00m\n\u001b[0;32m      2\u001b[0m \n\u001b[0;32m      3\u001b[0m \u001b[38;5;66;03m#-choose here the neuron typ:\u001b[39;00m\n\u001b[0;32m      4\u001b[0m typ \u001b[38;5;241m=\u001b[39m \u001b[38;5;124m'\u001b[39m\u001b[38;5;124mTC\u001b[39m\u001b[38;5;124m'\u001b[39m\n\u001b[1;32m----> 6\u001b[0m \u001b[43mexec\u001b[49m\u001b[43m(\u001b[49m\u001b[38;5;124;43mf\u001b[39;49m\u001b[38;5;124;43m'\u001b[39;49m\u001b[38;5;124;43mFF=\u001b[39;49m\u001b[38;5;132;43;01m{\u001b[39;49;00m\u001b[43mtyp\u001b[49m\u001b[38;5;132;43;01m}\u001b[39;49;00m\u001b[38;5;124;43m'\u001b[39;49m\u001b[43m)\u001b[49m\n\u001b[0;32m      7\u001b[0m muV, sV, Tv, TvN \u001b[38;5;241m=\u001b[39m MPF(typ, vve, vvi, FF)\n",
      "File \u001b[1;32m<string>:1\u001b[0m\n",
      "\u001b[1;31mNameError\u001b[0m: name 'TC' is not defined"
     ]
    }
   ],
   "source": [
    "#====== calculate MPF for TC/RE =======\n",
    "\n",
    "#-choose here the neuron typ:\n",
    "typ = 'TC'\n",
    "\n",
    "exec(f'FF={typ}')\n",
    "muV, sV, Tv, TvN = MPF(typ, vve, vvi, FF)"
   ]
  },
  {
   "cell_type": "code",
   "execution_count": 5,
   "metadata": {},
   "outputs": [
    {
     "ename": "NameError",
     "evalue": "name 'muV' is not defined",
     "output_type": "error",
     "traceback": [
      "\u001b[1;31m---------------------------------------------------------------------------\u001b[0m",
      "\u001b[1;31mNameError\u001b[0m                                 Traceback (most recent call last)",
      "Cell \u001b[1;32mIn[5], line 2\u001b[0m\n\u001b[0;32m      1\u001b[0m \u001b[38;5;28;01mfor\u001b[39;00m i \u001b[38;5;129;01min\u001b[39;00m \u001b[38;5;28mrange\u001b[39m(\u001b[38;5;241m10\u001b[39m):\n\u001b[1;32m----> 2\u001b[0m     plt\u001b[38;5;241m.\u001b[39mplot(\u001b[43mmuV\u001b[49m[i]\u001b[38;5;241m*\u001b[39m\u001b[38;5;241m1e3\u001b[39m,label\u001b[38;5;241m=\u001b[39m\u001b[38;5;124mf\u001b[39m\u001b[38;5;124m'\u001b[39m\u001b[38;5;124mvi=\u001b[39m\u001b[38;5;132;01m{\u001b[39;00mvi[i]\u001b[38;5;132;01m:\u001b[39;00m\u001b[38;5;124m.2f\u001b[39m\u001b[38;5;132;01m}\u001b[39;00m\u001b[38;5;124mHz\u001b[39m\u001b[38;5;124m'\u001b[39m)\n\u001b[0;32m      4\u001b[0m plt\u001b[38;5;241m.\u001b[39mxlabel(\u001b[38;5;124m'\u001b[39m\u001b[38;5;124mve [Hz]\u001b[39m\u001b[38;5;124m'\u001b[39m)\n\u001b[0;32m      5\u001b[0m plt\u001b[38;5;241m.\u001b[39mylabel(\u001b[38;5;124m'\u001b[39m\u001b[38;5;124mmuV [mV]\u001b[39m\u001b[38;5;124m'\u001b[39m)\n",
      "\u001b[1;31mNameError\u001b[0m: name 'muV' is not defined"
     ]
    }
   ],
   "source": [
    "for i in range(10):\n",
    "    plt.plot(muV[i]*1e3,label=f'vi={vi[i]:.2f}Hz')\n",
    "\n",
    "plt.xlabel('ve [Hz]')\n",
    "plt.ylabel('muV [mV]')\n",
    "plt.legend();"
   ]
  },
  {
   "cell_type": "code",
   "execution_count": 6,
   "metadata": {},
   "outputs": [],
   "source": [
    "def pheV(fout, muV, sV, Tv):\n",
    "    fout[fout<0]=1e-9\n",
    "    Tv[Tv<0]=1e-9\n",
    "    return np.sqrt(2)*sV * erfcinv( 2*Tv*fout ) + muV # Zerlaut 2017\n",
    "    # return np.sqrt(2)*sV * erfcinv( Tv*fout ) + muV # to widen the definition range"
   ]
  },
  {
   "cell_type": "code",
   "execution_count": 7,
   "metadata": {},
   "outputs": [
    {
     "ename": "NameError",
     "evalue": "name 'FF' is not defined",
     "output_type": "error",
     "traceback": [
      "\u001b[1;31m---------------------------------------------------------------------------\u001b[0m",
      "\u001b[1;31mNameError\u001b[0m                                 Traceback (most recent call last)",
      "Cell \u001b[1;32mIn[7], line 2\u001b[0m\n\u001b[0;32m      1\u001b[0m \u001b[38;5;66;03m#====== calculate phenomenological V_thr^eff ======\u001b[39;00m\n\u001b[1;32m----> 2\u001b[0m Veff \u001b[38;5;241m=\u001b[39m pheV(\u001b[43mFF\u001b[49m, muV, sV, Tv)\n\u001b[0;32m      4\u001b[0m \u001b[38;5;28;01mfor\u001b[39;00m i \u001b[38;5;129;01min\u001b[39;00m \u001b[38;5;28mrange\u001b[39m(\u001b[38;5;28mlen\u001b[39m(vi)):\n\u001b[0;32m      5\u001b[0m     plt\u001b[38;5;241m.\u001b[39mplot(ve, Veff[i]\u001b[38;5;241m*\u001b[39m\u001b[38;5;241m1e3\u001b[39m,label\u001b[38;5;241m=\u001b[39m\u001b[38;5;124mf\u001b[39m\u001b[38;5;124m'\u001b[39m\u001b[38;5;124mvi=\u001b[39m\u001b[38;5;132;01m{\u001b[39;00mvi[i]\u001b[38;5;132;01m:\u001b[39;00m\u001b[38;5;124m.2f\u001b[39m\u001b[38;5;132;01m}\u001b[39;00m\u001b[38;5;124mHz\u001b[39m\u001b[38;5;124m'\u001b[39m)\n",
      "\u001b[1;31mNameError\u001b[0m: name 'FF' is not defined"
     ]
    }
   ],
   "source": [
    "#====== calculate phenomenological V_thr^eff ======\n",
    "Veff = pheV(FF, muV, sV, Tv)\n",
    "\n",
    "for i in range(len(vi)):\n",
    "    plt.plot(ve, Veff[i]*1e3,label=f'vi={vi[i]:.2f}Hz')\n",
    "\n",
    "plt.xlabel('ve [Hz]')\n",
    "plt.ylabel('Veff [mV]')\n",
    "# plt.legend(loc=(1.2,-1.2));"
   ]
  },
  {
   "cell_type": "code",
   "execution_count": 8,
   "metadata": {},
   "outputs": [
    {
     "ename": "NameError",
     "evalue": "name 'Veff' is not defined",
     "output_type": "error",
     "traceback": [
      "\u001b[1;31m---------------------------------------------------------------------------\u001b[0m",
      "\u001b[1;31mNameError\u001b[0m                                 Traceback (most recent call last)",
      "Cell \u001b[1;32mIn[8], line 7\u001b[0m\n\u001b[0;32m      4\u001b[0m \u001b[38;5;28;01mif\u001b[39;00m typ\u001b[38;5;241m==\u001b[39m\u001b[38;5;124m'\u001b[39m\u001b[38;5;124mTC\u001b[39m\u001b[38;5;124m'\u001b[39m: idx \u001b[38;5;241m=\u001b[39m \u001b[38;5;124m'\u001b[39m\u001b[38;5;124m[15:38,8:35]\u001b[39m\u001b[38;5;124m'\u001b[39m\n\u001b[0;32m      5\u001b[0m \u001b[38;5;28;01melif\u001b[39;00m typ\u001b[38;5;241m==\u001b[39m\u001b[38;5;124m'\u001b[39m\u001b[38;5;124mRE\u001b[39m\u001b[38;5;124m'\u001b[39m: idx \u001b[38;5;241m=\u001b[39m \u001b[38;5;124m'\u001b[39m\u001b[38;5;124m[20:40,10:]\u001b[39m\u001b[38;5;124m'\u001b[39m\n\u001b[1;32m----> 7\u001b[0m \u001b[43mexec\u001b[49m\u001b[43m(\u001b[49m\u001b[38;5;124;43mf\u001b[39;49m\u001b[38;5;124;43m\"\u001b[39;49m\u001b[38;5;124;43mVeff_fit = Veff\u001b[39;49m\u001b[38;5;132;43;01m{\u001b[39;49;00m\u001b[43midx\u001b[49m\u001b[38;5;132;43;01m}\u001b[39;49;00m\u001b[38;5;124;43m\"\u001b[39;49m\u001b[43m)\u001b[49m\n\u001b[0;32m      8\u001b[0m exec(\u001b[38;5;124mf\u001b[39m\u001b[38;5;124m\"\u001b[39m\u001b[38;5;124mTC_fit = TC\u001b[39m\u001b[38;5;132;01m{\u001b[39;00midx\u001b[38;5;132;01m}\u001b[39;00m\u001b[38;5;124m\"\u001b[39m)\n\u001b[0;32m      9\u001b[0m exec(\u001b[38;5;124mf\u001b[39m\u001b[38;5;124m\"\u001b[39m\u001b[38;5;124mRE_fit = RE\u001b[39m\u001b[38;5;132;01m{\u001b[39;00midx\u001b[38;5;132;01m}\u001b[39;00m\u001b[38;5;124m\"\u001b[39m)\n",
      "File \u001b[1;32m<string>:1\u001b[0m\n",
      "\u001b[1;31mNameError\u001b[0m: name 'Veff' is not defined"
     ]
    }
   ],
   "source": [
    "# remove dimension so that no NaN entries are there anymore\n",
    "# ONLY important for fitting the Vthr\n",
    "\n",
    "if typ=='TC': idx = '[15:38,8:35]'\n",
    "elif typ=='RE': idx = '[20:40,10:]'\n",
    "\n",
    "exec(f\"Veff_fit = Veff{idx}\")\n",
    "exec(f\"TC_fit = TC{idx}\")\n",
    "exec(f\"RE_fit = RE{idx}\")\n",
    "exec(f\"muV_fit = muV{idx}\")\n",
    "exec(f\"sV_fit = sV{idx}\")\n",
    "exec(f\"Tv_fit = Tv{idx}\")\n",
    "exec(f\"TvN_fit = TvN{idx}\")\n",
    "Veff_fit.shape"
   ]
  },
  {
   "cell_type": "code",
   "execution_count": 9,
   "metadata": {},
   "outputs": [
    {
     "ename": "NameError",
     "evalue": "name 'Veff_fit' is not defined",
     "output_type": "error",
     "traceback": [
      "\u001b[1;31m---------------------------------------------------------------------------\u001b[0m",
      "\u001b[1;31mNameError\u001b[0m                                 Traceback (most recent call last)",
      "Cell \u001b[1;32mIn[9], line 1\u001b[0m\n\u001b[1;32m----> 1\u001b[0m plt\u001b[38;5;241m.\u001b[39mplot(\u001b[43mVeff_fit\u001b[49m\u001b[38;5;241m.\u001b[39mT)\n",
      "\u001b[1;31mNameError\u001b[0m: name 'Veff_fit' is not defined"
     ]
    }
   ],
   "source": [
    "plt.plot(Veff_fit.T);"
   ]
  },
  {
   "cell_type": "markdown",
   "metadata": {},
   "source": [
    "## fitting and results\n",
    "___"
   ]
  },
  {
   "cell_type": "markdown",
   "metadata": {},
   "source": [
    "#### fitting first order to find correct global minimum"
   ]
  },
  {
   "cell_type": "code",
   "execution_count": 10,
   "metadata": {},
   "outputs": [],
   "source": [
    "# calculating the effective threshold potential with a general second order polynomial of the membrane moments (mu,sigma,tau)\n",
    "\n",
    "def Vthre(P, muV, sV, TvN):\n",
    "    # normalizing moments:\n",
    "    muV0 = -60e-3;\n",
    "    DmuV0 = 10e-3;\n",
    "    sV0 = 4e-3;\n",
    "    DsV0 = 6e-3;\n",
    "    TvN0 = 0.5;\n",
    "    DTvN0 = 1.;\n",
    "    \n",
    "    # first order polynomial\n",
    "    Vo1 = P[0] + P[1]*(muV-muV0)/DmuV0 + P[2]*(sV-sV0)/DsV0 + P[3]*(TvN-TvN0)/DTvN0\n",
    "    # second order polynomial\n",
    "    Vo2 = P[4]*((muV-muV0)/DmuV0)*((muV-muV0)/DmuV0) + P[5]*(muV-muV0)/DmuV0*(sV-sV0)/DsV0 + P[6]*(muV-muV0)/DmuV0*(TvN-TvN0)/DTvN0 + P[7]*((sV-sV0)/DsV0)*((sV-sV0)/DsV0) + P[8]*(sV-sV0)/DsV0*(TvN-TvN0)/DTvN0  + P[9]*((TvN-TvN0)/DTvN0)*((TvN-TvN0)/DTvN0);\n",
    "\n",
    "    return Vo1 + Vo2\n",
    "    "
   ]
  },
  {
   "cell_type": "code",
   "execution_count": 11,
   "metadata": {},
   "outputs": [
    {
     "ename": "NameError",
     "evalue": "name 'Veff_fit' is not defined",
     "output_type": "error",
     "traceback": [
      "\u001b[1;31m---------------------------------------------------------------------------\u001b[0m",
      "\u001b[1;31mNameError\u001b[0m                                 Traceback (most recent call last)",
      "Cell \u001b[1;32mIn[11], line 5\u001b[0m\n\u001b[0;32m      1\u001b[0m \u001b[38;5;66;03m# fitting first order Vthr on the phenomenological threshold space\u001b[39;00m\n\u001b[0;32m      3\u001b[0m \u001b[38;5;28;01mdef\u001b[39;00m \u001b[38;5;21mRes\u001b[39m(P): \u001b[38;5;28;01mreturn\u001b[39;00m np\u001b[38;5;241m.\u001b[39mmean( (Veff_fit \u001b[38;5;241m-\u001b[39m Vthre(np\u001b[38;5;241m.\u001b[39mconcatenate([P,[\u001b[38;5;241m0\u001b[39m]\u001b[38;5;241m*\u001b[39m\u001b[38;5;241m6\u001b[39m]), muV_fit, sV_fit, TvN_fit))\u001b[38;5;241m*\u001b[39m\u001b[38;5;241m*\u001b[39m\u001b[38;5;241m2\u001b[39m )\n\u001b[1;32m----> 5\u001b[0m res \u001b[38;5;241m=\u001b[39m minimize(Res, [\u001b[43mVeff_fit\u001b[49m\u001b[38;5;241m.\u001b[39mmean(),\u001b[38;5;241m1e-3\u001b[39m,\u001b[38;5;241m1e-3\u001b[39m,\u001b[38;5;241m1e-3\u001b[39m], method\u001b[38;5;241m=\u001b[39m\u001b[38;5;124m'\u001b[39m\u001b[38;5;124mnelder-mead\u001b[39m\u001b[38;5;124m'\u001b[39m, tol\u001b[38;5;241m=\u001b[39m\u001b[38;5;241m1e-20\u001b[39m, options\u001b[38;5;241m=\u001b[39m{\u001b[38;5;124m'\u001b[39m\u001b[38;5;124mdisp\u001b[39m\u001b[38;5;124m'\u001b[39m:\u001b[38;5;28;01mTrue\u001b[39;00m,\u001b[38;5;124m'\u001b[39m\u001b[38;5;124mmaxiter\u001b[39m\u001b[38;5;124m'\u001b[39m:\u001b[38;5;241m20000\u001b[39m})\n\u001b[0;32m      6\u001b[0m \u001b[38;5;66;03m# res = minimize(Res, [Veff_fit.mean(),1e-3,1e-3,1e-3], method='SLSQP', tol=1e-32, options={'disp':True,'maxiter':20000})\u001b[39;00m\n\u001b[0;32m      8\u001b[0m P1 \u001b[38;5;241m=\u001b[39m np\u001b[38;5;241m.\u001b[39marray(res\u001b[38;5;241m.\u001b[39mx)\n",
      "\u001b[1;31mNameError\u001b[0m: name 'Veff_fit' is not defined"
     ]
    }
   ],
   "source": [
    "# fitting first order Vthr on the phenomenological threshold space\n",
    "\n",
    "def Res(P): return np.mean( (Veff_fit - Vthre(np.concatenate([P,[0]*6]), muV_fit, sV_fit, TvN_fit))**2 )\n",
    "\n",
    "res = minimize(Res, [Veff_fit.mean(),1e-3,1e-3,1e-3], method='nelder-mead', tol=1e-20, options={'disp':True,'maxiter':20000})\n",
    "# res = minimize(Res, [Veff_fit.mean(),1e-3,1e-3,1e-3], method='SLSQP', tol=1e-32, options={'disp':True,'maxiter':20000})\n",
    "\n",
    "P1 = np.array(res.x)\n",
    "print(P1)"
   ]
  },
  {
   "cell_type": "code",
   "execution_count": 12,
   "metadata": {},
   "outputs": [
    {
     "ename": "NameError",
     "evalue": "name 'vi' is not defined",
     "output_type": "error",
     "traceback": [
      "\u001b[1;31m---------------------------------------------------------------------------\u001b[0m",
      "\u001b[1;31mNameError\u001b[0m                                 Traceback (most recent call last)",
      "Cell \u001b[1;32mIn[12], line 6\u001b[0m\n\u001b[0;32m      1\u001b[0m \u001b[38;5;66;03m# checking the fit...\u001b[39;00m\n\u001b[0;32m      2\u001b[0m \n\u001b[0;32m      3\u001b[0m \u001b[38;5;66;03m# choose vi:\u001b[39;00m\n\u001b[0;32m      4\u001b[0m i\u001b[38;5;241m=\u001b[39m\u001b[38;5;241m10\u001b[39m\n\u001b[1;32m----> 6\u001b[0m plt\u001b[38;5;241m.\u001b[39mtitle(\u001b[38;5;124mf\u001b[39m\u001b[38;5;124m'\u001b[39m\u001b[38;5;124mvi = \u001b[39m\u001b[38;5;132;01m{\u001b[39;00mvi[i]\u001b[38;5;132;01m:\u001b[39;00m\u001b[38;5;124m.2f\u001b[39m\u001b[38;5;132;01m}\u001b[39;00m\u001b[38;5;124m Hz\u001b[39m\u001b[38;5;124m'\u001b[39m)\n\u001b[0;32m      8\u001b[0m plt\u001b[38;5;241m.\u001b[39mplot(Veff_fit[i]\u001b[38;5;241m*\u001b[39m\u001b[38;5;241m1e3\u001b[39m, label\u001b[38;5;241m=\u001b[39m\u001b[38;5;124m'\u001b[39m\u001b[38;5;124mdata\u001b[39m\u001b[38;5;124m'\u001b[39m)\n\u001b[0;32m      9\u001b[0m plt\u001b[38;5;241m.\u001b[39mplot(Vthre(np\u001b[38;5;241m.\u001b[39mconcatenate([P1,[\u001b[38;5;241m0\u001b[39m]\u001b[38;5;241m*\u001b[39m\u001b[38;5;241m6\u001b[39m]), muV_fit, sV_fit, TvN_fit)[i]\u001b[38;5;241m*\u001b[39m\u001b[38;5;241m1e3\u001b[39m, label\u001b[38;5;241m=\u001b[39m\u001b[38;5;124m'\u001b[39m\u001b[38;5;124mfit\u001b[39m\u001b[38;5;124m'\u001b[39m)\n",
      "\u001b[1;31mNameError\u001b[0m: name 'vi' is not defined"
     ]
    }
   ],
   "source": [
    "# checking the fit...\n",
    "\n",
    "# choose vi:\n",
    "i=10\n",
    "\n",
    "plt.title(f'vi = {vi[i]:.2f} Hz')\n",
    "\n",
    "plt.plot(Veff_fit[i]*1e3, label='data')\n",
    "plt.plot(Vthre(np.concatenate([P1,[0]*6]), muV_fit, sV_fit, TvN_fit)[i]*1e3, label='fit')\n",
    "plt.xlabel('ve [Hz]')\n",
    "plt.ylabel('Vthr [mV]')\n",
    "plt.legend();\n"
   ]
  },
  {
   "cell_type": "markdown",
   "metadata": {},
   "source": [
    "___\n",
    "skippable "
   ]
  },
  {
   "cell_type": "code",
   "execution_count": 13,
   "metadata": {},
   "outputs": [
    {
     "ename": "NameError",
     "evalue": "name 'Veff_fit' is not defined",
     "output_type": "error",
     "traceback": [
      "\u001b[1;31m---------------------------------------------------------------------------\u001b[0m",
      "\u001b[1;31mNameError\u001b[0m                                 Traceback (most recent call last)",
      "Cell \u001b[1;32mIn[13], line 4\u001b[0m\n\u001b[0;32m      1\u001b[0m \u001b[38;5;66;03m# fit the second order parameters on Vthre ( not necessary most of the time!!!! -> SKIP )\u001b[39;00m\n\u001b[0;32m      2\u001b[0m \u001b[38;5;28;01mdef\u001b[39;00m \u001b[38;5;21mRes\u001b[39m(P): \u001b[38;5;28;01mreturn\u001b[39;00m np\u001b[38;5;241m.\u001b[39mmean( (Veff_fit \u001b[38;5;241m-\u001b[39m Vthre(np\u001b[38;5;241m.\u001b[39mconcatenate([P1,P]), muV_fit, sV_fit, TvN_fit))\u001b[38;5;241m*\u001b[39m\u001b[38;5;241m*\u001b[39m\u001b[38;5;241m2\u001b[39m )\n\u001b[1;32m----> 4\u001b[0m res \u001b[38;5;241m=\u001b[39m \u001b[43mminimize\u001b[49m\u001b[43m(\u001b[49m\u001b[43mRes\u001b[49m\u001b[43m,\u001b[49m\u001b[43m \u001b[49m\u001b[43m[\u001b[49m\u001b[38;5;241;43m1e-9\u001b[39;49m\u001b[43m]\u001b[49m\u001b[38;5;241;43m*\u001b[39;49m\u001b[38;5;241;43m6\u001b[39;49m\u001b[43m,\u001b[49m\u001b[43m \u001b[49m\u001b[43mmethod\u001b[49m\u001b[38;5;241;43m=\u001b[39;49m\u001b[38;5;124;43m'\u001b[39;49m\u001b[38;5;124;43mnelder-mead\u001b[39;49m\u001b[38;5;124;43m'\u001b[39;49m\u001b[43m,\u001b[49m\u001b[43m \u001b[49m\u001b[43mtol\u001b[49m\u001b[38;5;241;43m=\u001b[39;49m\u001b[38;5;241;43m1e-15\u001b[39;49m\u001b[43m,\u001b[49m\u001b[43m \u001b[49m\u001b[43moptions\u001b[49m\u001b[38;5;241;43m=\u001b[39;49m\u001b[43m{\u001b[49m\u001b[38;5;124;43m'\u001b[39;49m\u001b[38;5;124;43mdisp\u001b[39;49m\u001b[38;5;124;43m'\u001b[39;49m\u001b[43m:\u001b[49m\u001b[38;5;28;43;01mTrue\u001b[39;49;00m\u001b[43m,\u001b[49m\u001b[38;5;124;43m'\u001b[39;49m\u001b[38;5;124;43mmaxiter\u001b[39;49m\u001b[38;5;124;43m'\u001b[39;49m\u001b[43m:\u001b[49m\u001b[38;5;241;43m20000\u001b[39;49m\u001b[43m}\u001b[49m\u001b[43m)\u001b[49m\n\u001b[0;32m      5\u001b[0m \u001b[38;5;66;03m# res = minimize(Res, [0]*6, method='SLSQP', options={'ftol':1e-20,'disp':True,'maxiter':20000})\u001b[39;00m\n\u001b[0;32m      7\u001b[0m P2 \u001b[38;5;241m=\u001b[39m np\u001b[38;5;241m.\u001b[39marray(res\u001b[38;5;241m.\u001b[39mx)\n",
      "File \u001b[1;32m~\\anaconda3\\lib\\site-packages\\scipy\\optimize\\_minimize.py:684\u001b[0m, in \u001b[0;36mminimize\u001b[1;34m(fun, x0, args, method, jac, hess, hessp, bounds, constraints, tol, callback, options)\u001b[0m\n\u001b[0;32m    681\u001b[0m     bounds \u001b[38;5;241m=\u001b[39m standardize_bounds(bounds, x0, meth)\n\u001b[0;32m    683\u001b[0m \u001b[38;5;28;01mif\u001b[39;00m meth \u001b[38;5;241m==\u001b[39m \u001b[38;5;124m'\u001b[39m\u001b[38;5;124mnelder-mead\u001b[39m\u001b[38;5;124m'\u001b[39m:\n\u001b[1;32m--> 684\u001b[0m     res \u001b[38;5;241m=\u001b[39m _minimize_neldermead(fun, x0, args, callback, bounds\u001b[38;5;241m=\u001b[39mbounds,\n\u001b[0;32m    685\u001b[0m                                \u001b[38;5;241m*\u001b[39m\u001b[38;5;241m*\u001b[39moptions)\n\u001b[0;32m    686\u001b[0m \u001b[38;5;28;01melif\u001b[39;00m meth \u001b[38;5;241m==\u001b[39m \u001b[38;5;124m'\u001b[39m\u001b[38;5;124mpowell\u001b[39m\u001b[38;5;124m'\u001b[39m:\n\u001b[0;32m    687\u001b[0m     res \u001b[38;5;241m=\u001b[39m _minimize_powell(fun, x0, args, callback, bounds, \u001b[38;5;241m*\u001b[39m\u001b[38;5;241m*\u001b[39moptions)\n",
      "File \u001b[1;32m~\\anaconda3\\lib\\site-packages\\scipy\\optimize\\_optimize.py:845\u001b[0m, in \u001b[0;36m_minimize_neldermead\u001b[1;34m(func, x0, args, callback, maxiter, maxfev, disp, return_all, initial_simplex, xatol, fatol, adaptive, bounds, **unknown_options)\u001b[0m\n\u001b[0;32m    843\u001b[0m \u001b[38;5;28;01mtry\u001b[39;00m:\n\u001b[0;32m    844\u001b[0m     \u001b[38;5;28;01mfor\u001b[39;00m k \u001b[38;5;129;01min\u001b[39;00m \u001b[38;5;28mrange\u001b[39m(N \u001b[38;5;241m+\u001b[39m \u001b[38;5;241m1\u001b[39m):\n\u001b[1;32m--> 845\u001b[0m         fsim[k] \u001b[38;5;241m=\u001b[39m \u001b[43mfunc\u001b[49m\u001b[43m(\u001b[49m\u001b[43msim\u001b[49m\u001b[43m[\u001b[49m\u001b[43mk\u001b[49m\u001b[43m]\u001b[49m\u001b[43m)\u001b[49m\n\u001b[0;32m    846\u001b[0m \u001b[38;5;28;01mexcept\u001b[39;00m _MaxFuncCallError:\n\u001b[0;32m    847\u001b[0m     \u001b[38;5;28;01mpass\u001b[39;00m\n",
      "File \u001b[1;32m~\\anaconda3\\lib\\site-packages\\scipy\\optimize\\_optimize.py:569\u001b[0m, in \u001b[0;36m_wrap_scalar_function_maxfun_validation.<locals>.function_wrapper\u001b[1;34m(x, *wrapper_args)\u001b[0m\n\u001b[0;32m    567\u001b[0m ncalls[\u001b[38;5;241m0\u001b[39m] \u001b[38;5;241m+\u001b[39m\u001b[38;5;241m=\u001b[39m \u001b[38;5;241m1\u001b[39m\n\u001b[0;32m    568\u001b[0m \u001b[38;5;66;03m# A copy of x is sent to the user function (gh13740)\u001b[39;00m\n\u001b[1;32m--> 569\u001b[0m fx \u001b[38;5;241m=\u001b[39m \u001b[43mfunction\u001b[49m\u001b[43m(\u001b[49m\u001b[43mnp\u001b[49m\u001b[38;5;241;43m.\u001b[39;49m\u001b[43mcopy\u001b[49m\u001b[43m(\u001b[49m\u001b[43mx\u001b[49m\u001b[43m)\u001b[49m\u001b[43m,\u001b[49m\u001b[43m \u001b[49m\u001b[38;5;241;43m*\u001b[39;49m\u001b[43m(\u001b[49m\u001b[43mwrapper_args\u001b[49m\u001b[43m \u001b[49m\u001b[38;5;241;43m+\u001b[39;49m\u001b[43m \u001b[49m\u001b[43margs\u001b[49m\u001b[43m)\u001b[49m\u001b[43m)\u001b[49m\n\u001b[0;32m    570\u001b[0m \u001b[38;5;66;03m# Ideally, we'd like to a have a true scalar returned from f(x). For\u001b[39;00m\n\u001b[0;32m    571\u001b[0m \u001b[38;5;66;03m# backwards-compatibility, also allow np.array([1.3]),\u001b[39;00m\n\u001b[0;32m    572\u001b[0m \u001b[38;5;66;03m# np.array([[1.3]]) etc.\u001b[39;00m\n\u001b[0;32m    573\u001b[0m \u001b[38;5;28;01mif\u001b[39;00m \u001b[38;5;129;01mnot\u001b[39;00m np\u001b[38;5;241m.\u001b[39misscalar(fx):\n",
      "Cell \u001b[1;32mIn[13], line 2\u001b[0m, in \u001b[0;36mRes\u001b[1;34m(P)\u001b[0m\n\u001b[1;32m----> 2\u001b[0m \u001b[38;5;28;01mdef\u001b[39;00m \u001b[38;5;21mRes\u001b[39m(P): \u001b[38;5;28;01mreturn\u001b[39;00m np\u001b[38;5;241m.\u001b[39mmean( (\u001b[43mVeff_fit\u001b[49m \u001b[38;5;241m-\u001b[39m Vthre(np\u001b[38;5;241m.\u001b[39mconcatenate([P1,P]), muV_fit, sV_fit, TvN_fit))\u001b[38;5;241m*\u001b[39m\u001b[38;5;241m*\u001b[39m\u001b[38;5;241m2\u001b[39m )\n",
      "\u001b[1;31mNameError\u001b[0m: name 'Veff_fit' is not defined"
     ]
    }
   ],
   "source": [
    "# fit the second order parameters on Vthre ( not necessary most of the time!!!! -> SKIP )\n",
    "def Res(P): return np.mean( (Veff_fit - Vthre(np.concatenate([P1,P]), muV_fit, sV_fit, TvN_fit))**2 )\n",
    "\n",
    "res = minimize(Res, [1e-9]*6, method='nelder-mead', tol=1e-15, options={'disp':True,'maxiter':20000})\n",
    "# res = minimize(Res, [0]*6, method='SLSQP', options={'ftol':1e-20,'disp':True,'maxiter':20000})\n",
    "\n",
    "P2 = np.array(res.x)\n",
    "print(P2)"
   ]
  },
  {
   "cell_type": "code",
   "execution_count": null,
   "metadata": {},
   "outputs": [],
   "source": [
    "P = np.concatenate([P1,P2])"
   ]
  },
  {
   "cell_type": "code",
   "execution_count": null,
   "metadata": {},
   "outputs": [],
   "source": [
    "i =10\n",
    "plt.plot(Veff_fit[i])\n",
    "plt.plot(Vthre(P, muV_fit, sV_fit, TvN_fit)[i])"
   ]
  },
  {
   "cell_type": "code",
   "execution_count": null,
   "metadata": {},
   "outputs": [],
   "source": [
    "# choose a subspace to fit the firing rate and transfer function ( not necessary BUT produces better results most of the time )\n",
    "# IMPPORTANT if a subspace in firing rate input is more interesting or badly fitted without doing this ...\n",
    "\n",
    "red = [0,5,8,9,10,11,12,13,14,15,19,20,21,22,23,24,25,30,39]\n",
    "# rid = [0,20,30,35,36,37,38,39]\n",
    "rid = [0,1,2,3,4,5,10,20,30,35,36,37,38,39]\n",
    "# rid = [0,1,2,3,4,5,6,7,8,9,10]\n",
    "\n",
    "plt.plot(ve,FF[rid].T);"
   ]
  },
  {
   "cell_type": "markdown",
   "metadata": {},
   "source": [
    "skippable\n",
    "___"
   ]
  },
  {
   "cell_type": "code",
   "execution_count": 14,
   "metadata": {},
   "outputs": [],
   "source": [
    "# the transfer function\n",
    "def TF(P, muV, sV, Tv, TvN):\n",
    "    fout = 1/(2*Tv) * erfc( (Vthre(P, muV, sV, TvN) - muV)/(np.sqrt(2)*sV) )\n",
    "    \n",
    "    # fout = np.where(fout<0, 1e-9, fout)\n",
    "    fout[fout<0]=0\n",
    "    return fout"
   ]
  },
  {
   "cell_type": "code",
   "execution_count": 15,
   "metadata": {},
   "outputs": [
    {
     "ename": "NameError",
     "evalue": "name 'P1' is not defined",
     "output_type": "error",
     "traceback": [
      "\u001b[1;31m---------------------------------------------------------------------------\u001b[0m",
      "\u001b[1;31mNameError\u001b[0m                                 Traceback (most recent call last)",
      "Cell \u001b[1;32mIn[15], line 7\u001b[0m\n\u001b[0;32m      3\u001b[0m     \u001b[38;5;28;01mreturn\u001b[39;00m np\u001b[38;5;241m.\u001b[39mmean( (FF \u001b[38;5;241m-\u001b[39m TF(P, muV, sV, Tv, TvN))\u001b[38;5;241m*\u001b[39m\u001b[38;5;241m*\u001b[39m\u001b[38;5;241m2\u001b[39m )\n\u001b[0;32m      4\u001b[0m     \u001b[38;5;66;03m# return np.mean( (FF[rid] - TF(P, muV[rid], sV[rid], Tv[rid], TvN[rid]))**2 )\u001b[39;00m\n\u001b[0;32m      5\u001b[0m \n\u001b[0;32m      6\u001b[0m \u001b[38;5;66;03m# res = minimize(Res, P, method='nelder-mead', tol=1e-20, options={'disp':True,'maxiter':40000})\u001b[39;00m\n\u001b[1;32m----> 7\u001b[0m res \u001b[38;5;241m=\u001b[39m minimize(Res, np\u001b[38;5;241m.\u001b[39mconcatenate([\u001b[43mP1\u001b[49m,[\u001b[38;5;241m1e-6\u001b[39m]\u001b[38;5;241m*\u001b[39m\u001b[38;5;241m6\u001b[39m]), method\u001b[38;5;241m=\u001b[39m\u001b[38;5;124m'\u001b[39m\u001b[38;5;124mnelder-mead\u001b[39m\u001b[38;5;124m'\u001b[39m, tol\u001b[38;5;241m=\u001b[39m\u001b[38;5;241m1e-20\u001b[39m, options\u001b[38;5;241m=\u001b[39m{\u001b[38;5;124m'\u001b[39m\u001b[38;5;124mdisp\u001b[39m\u001b[38;5;124m'\u001b[39m:\u001b[38;5;28;01mTrue\u001b[39;00m,\u001b[38;5;124m'\u001b[39m\u001b[38;5;124mmaxiter\u001b[39m\u001b[38;5;124m'\u001b[39m:\u001b[38;5;241m20000\u001b[39m})\n\u001b[0;32m      8\u001b[0m \u001b[38;5;66;03m# res = minimize(Res, P, method='SLSQP', options={'ftol':1e-20,'disp':True,'maxiter':40000})\u001b[39;00m\n\u001b[0;32m     10\u001b[0m PP \u001b[38;5;241m=\u001b[39m np\u001b[38;5;241m.\u001b[39marray(res\u001b[38;5;241m.\u001b[39mx)\n",
      "\u001b[1;31mNameError\u001b[0m: name 'P1' is not defined"
     ]
    }
   ],
   "source": [
    "def Res(P):\n",
    "    # return np.mean( (TC_fit - TF(P, muV_fit, sV_fit, Tv_fit, TvN_fit))**2 )\n",
    "    return np.mean( (FF - TF(P, muV, sV, Tv, TvN))**2 )\n",
    "    # return np.mean( (FF[rid] - TF(P, muV[rid], sV[rid], Tv[rid], TvN[rid]))**2 )\n",
    "\n",
    "# res = minimize(Res, P, method='nelder-mead', tol=1e-20, options={'disp':True,'maxiter':40000})\n",
    "res = minimize(Res, np.concatenate([P1,[1e-6]*6]), method='nelder-mead', tol=1e-20, options={'disp':True,'maxiter':20000})\n",
    "# res = minimize(Res, P, method='SLSQP', options={'ftol':1e-20,'disp':True,'maxiter':40000})\n",
    "\n",
    "PP = np.array(res.x)\n",
    "print(PP)"
   ]
  },
  {
   "cell_type": "code",
   "execution_count": 16,
   "metadata": {},
   "outputs": [
    {
     "ename": "NameError",
     "evalue": "name 'PP' is not defined",
     "output_type": "error",
     "traceback": [
      "\u001b[1;31m---------------------------------------------------------------------------\u001b[0m",
      "\u001b[1;31mNameError\u001b[0m                                 Traceback (most recent call last)",
      "Cell \u001b[1;32mIn[16], line 1\u001b[0m\n\u001b[1;32m----> 1\u001b[0m TF(\u001b[43mPP\u001b[49m, muV, sV, Tv, TvN)[\u001b[38;5;241m10\u001b[39m]\n",
      "\u001b[1;31mNameError\u001b[0m: name 'PP' is not defined"
     ]
    }
   ],
   "source": [
    "TF(PP, muV, sV, Tv, TvN)[10]"
   ]
  },
  {
   "cell_type": "code",
   "execution_count": 17,
   "metadata": {},
   "outputs": [
    {
     "ename": "NameError",
     "evalue": "name 'vi' is not defined",
     "output_type": "error",
     "traceback": [
      "\u001b[1;31m---------------------------------------------------------------------------\u001b[0m",
      "\u001b[1;31mNameError\u001b[0m                                 Traceback (most recent call last)",
      "Cell \u001b[1;32mIn[17], line 6\u001b[0m\n\u001b[0;32m      1\u001b[0m \u001b[38;5;66;03m# compare fit\u001b[39;00m\n\u001b[0;32m      2\u001b[0m \n\u001b[0;32m      3\u001b[0m \u001b[38;5;66;03m# choose vi...\u001b[39;00m\n\u001b[0;32m      4\u001b[0m i \u001b[38;5;241m=\u001b[39m\u001b[38;5;241m20\u001b[39m\n\u001b[1;32m----> 6\u001b[0m \u001b[38;5;28mprint\u001b[39m(\u001b[38;5;124mf\u001b[39m\u001b[38;5;124m'\u001b[39m\u001b[38;5;124mvi = \u001b[39m\u001b[38;5;132;01m{\u001b[39;00mvi[i]\u001b[38;5;132;01m:\u001b[39;00m\u001b[38;5;124m.2f\u001b[39m\u001b[38;5;132;01m}\u001b[39;00m\u001b[38;5;124mHz\u001b[39m\u001b[38;5;124m'\u001b[39m)\n\u001b[0;32m      8\u001b[0m plt\u001b[38;5;241m.\u001b[39mplot(FF[i], \u001b[38;5;124m'\u001b[39m\u001b[38;5;124mo\u001b[39m\u001b[38;5;124m'\u001b[39m, ms\u001b[38;5;241m=\u001b[39m\u001b[38;5;241m3\u001b[39m, label\u001b[38;5;241m=\u001b[39m\u001b[38;5;124m'\u001b[39m\u001b[38;5;124mdata\u001b[39m\u001b[38;5;124m'\u001b[39m)\n\u001b[0;32m      9\u001b[0m plt\u001b[38;5;241m.\u001b[39mplot(TF(PP, muV, sV, Tv, TvN)[i], label\u001b[38;5;241m=\u001b[39m\u001b[38;5;124m'\u001b[39m\u001b[38;5;124mfit\u001b[39m\u001b[38;5;124m'\u001b[39m)\n",
      "\u001b[1;31mNameError\u001b[0m: name 'vi' is not defined"
     ]
    }
   ],
   "source": [
    "# compare fit\n",
    "\n",
    "# choose vi...\n",
    "i =20\n",
    "\n",
    "print(f'vi = {vi[i]:.2f}Hz')\n",
    "\n",
    "plt.plot(FF[i], 'o', ms=3, label='data')\n",
    "plt.plot(TF(PP, muV, sV, Tv, TvN)[i], label='fit')\n",
    "\n",
    "plt.xlabel('ve [Hz]')\n",
    "plt.ylabel('vout [Hz]')\n",
    "plt.legend();\n"
   ]
  },
  {
   "cell_type": "code",
   "execution_count": 18,
   "metadata": {},
   "outputs": [
    {
     "ename": "NameError",
     "evalue": "name 'PP' is not defined",
     "output_type": "error",
     "traceback": [
      "\u001b[1;31m---------------------------------------------------------------------------\u001b[0m",
      "\u001b[1;31mNameError\u001b[0m                                 Traceback (most recent call last)",
      "Cell \u001b[1;32mIn[18], line 3\u001b[0m\n\u001b[0;32m      1\u001b[0m \u001b[38;5;66;03m#===== SAVE fitted parameters ======\u001b[39;00m\n\u001b[1;32m----> 3\u001b[0m np\u001b[38;5;241m.\u001b[39msave(\u001b[38;5;124mf\u001b[39m\u001b[38;5;124m'\u001b[39m\u001b[38;5;124mdata\u001b[39m\u001b[38;5;130;01m\\\\\u001b[39;00m\u001b[38;5;124mFITparams_\u001b[39m\u001b[38;5;132;01m{\u001b[39;00mtyp\u001b[38;5;132;01m}\u001b[39;00m\u001b[38;5;124m_exp.npy\u001b[39m\u001b[38;5;124m'\u001b[39m, \u001b[43mPP\u001b[49m)\n",
      "\u001b[1;31mNameError\u001b[0m: name 'PP' is not defined"
     ]
    }
   ],
   "source": [
    "#===== SAVE fitted parameters ======\n",
    "\n",
    "np.save(f'data\\\\FITparams_{typ}_exp.npy', PP)"
   ]
  },
  {
   "cell_type": "markdown",
   "metadata": {},
   "source": [
    "___\n",
    "___\n",
    "#### END (other ideas stuff beyond here + unimaginable horrors beyond your imagination)\n",
    "___\n",
    "___"
   ]
  },
  {
   "cell_type": "code",
   "execution_count": 25,
   "metadata": {},
   "outputs": [
    {
     "data": {
      "text/plain": [
       "<matplotlib.legend.Legend at 0x276bf0cfbd0>"
      ]
     },
     "execution_count": 25,
     "metadata": {},
     "output_type": "execute_result"
    },
    {
     "data": {
      "image/png": "[encoded data removed]",
      "text/plain": [
       "<Figure size 640x480 with 1 Axes>"
      ]
     },
     "metadata": {},
     "output_type": "display_data"
    }
   ],
   "source": [
    "# pZ=np.load(\"C:\\VSCode\\DB_comparison\\mf\\data\\FS-cell_CONFIG1_fit.npy\")[[0,1,2,3,5,8,9,6,10,7]]\n",
    "pppp2=np.load('data\\\\NEW6params_RE.npy')*1e3\n",
    "pppp3=np.load('data\\\\NEW5params_RE.npy')*1e3\n",
    "# pppp2=np.load('data\\\\NEW4params_RE.npy')\n",
    "# pppp3=np.load('data\\\\NEW6params_RE.npy')\n",
    "plt.plot(pppp2,'s-b',label='1')\n",
    "plt.plot(pppp3,'s-r',label='2')\n",
    "labels = ['$P_0$','$P_{\\mu}$','$P_{\\sigma}$','$P_{\\\\tau}$' , '$P_{\\mu\\mu}$','$P_{\\mu\\sigma}$','$P_{\\mu\\\\tau}$','$P_{\\sigma\\sigma}$','$P_{\\sigma\\\\tau}$','$P_{\\\\tau\\\\tau}$']\n",
    "plt.xticks(range(len(labels)),labels);\n",
    "plt.ylabel('parameter value (mV)')\n",
    "plt.xlabel('fitting parameter $P_{xy}$')\n",
    "plt.grid()\n",
    "plt.legend()\n",
    "# plt.savefig('gfx\\\\fitparams.png',dpi=200,bbox_inches='tight')"
   ]
  },
  {
   "cell_type": "markdown",
   "metadata": {},
   "source": [
    "___"
   ]
  },
  {
   "cell_type": "code",
   "execution_count": 2,
   "metadata": {},
   "outputs": [],
   "source": [
    "import numpy as np\n",
    "import matplotlib.pyplot as plt\n",
    "from scipy.special import erfc\n",
    "from mytools import ornstein_uhlenbeck"
   ]
  },
  {
   "cell_type": "code",
   "execution_count": 3,
   "metadata": {},
   "outputs": [],
   "source": [
    "typ='TC'\n",
    "PP = np.load(f'data\\\\NEW6params_{typ}.npy')"
   ]
  },
  {
   "cell_type": "code",
   "execution_count": 4,
   "metadata": {},
   "outputs": [],
   "source": [
    "def TF2(P,fexc,finh,adapt, Nexc,Ninh,Qe,Qi,Cm,El, noise=1):\n",
    "\n",
    "    fe = fexc*Nexc\n",
    "    fi = finh*Ninh\n",
    "\n",
    "    fe+=1e-9;\n",
    "    fi+=1e-9;\n",
    "    \n",
    "    muGi = Qi*Ti*fi;\n",
    "    muGe = Qe*Te*fe;\n",
    "    muG = Gl+muGe+muGi;\n",
    "    muV = (muGe*Ee+muGi*Ei+Gl*El-adapt)/muG;\n",
    "    # muV = (muGe*Ee+muGi*Ei+Gl*El - fout*Tw*b + a*El)/(muG+a);\n",
    "    \n",
    "    \n",
    "    muGn = muG/Gl;\n",
    "    Tm = Cm/muG;\n",
    "    \n",
    "    Ue =  Qe/muG*(Ee-muV);\n",
    "    Ui = Qi/muG*(Ei-muV);\n",
    "    \n",
    "    sV = np.sqrt(fe*(Ue*Te)*(Ue*Te)/2./(Te+Tm)+fi*(Ui*Ti)*(Ui*Ti)/2./(Ti+Tm));\n",
    "\n",
    "    sV*=noise\n",
    "    \n",
    "    \n",
    "    fe+=1e-9;\n",
    "    fi+=1e-9;\n",
    "\n",
    "    Tv = ( fe*(Ue*Te)*(Ue*Te) + fi*(Qi*Ui)*(Qi*Ui)) /( fe*(Ue*Te)*(Ue*Te)/(Te+Tm) + fi*(Qi*Ui)*(Qi*Ui)/(Ti+Tm) );\n",
    "    TvN = Tv*Gl/Cm;\n",
    "    \n",
    "    muV0=-60e-3;\n",
    "    DmuV0 = 10e-3;\n",
    "    sV0 =4e-3;\n",
    "    DsV0= 6e-3;\n",
    "    TvN0=0.5;\n",
    "    DTvN0 = 1.;\n",
    "\n",
    "    vthre = P[0] + P[1]*(muV-muV0)/DmuV0 + P[2]*(sV-sV0)/DsV0 + P[3]*(TvN-TvN0)/DTvN0 \\\n",
    "    + P[4]*((muV-muV0)/DmuV0)*((muV-muV0)/DmuV0) + P[5]*(muV-muV0)/DmuV0*(sV-sV0)/DsV0 + P[6]*(muV-muV0)/DmuV0*(TvN-TvN0)/DTvN0 + P[7]*((sV-sV0)/DsV0)*((sV-sV0)/DsV0) + P[8]*(sV-sV0)/DsV0*(TvN-TvN0)/DTvN0 + P[9]*((TvN-TvN0)/DTvN0)*((TvN-TvN0)/DTvN0);\n",
    "\n",
    "\n",
    "    frout = 1/(2*Tv) * erfc( (vthre - muV)/(np.sqrt(2)*sV) )\n",
    "    \n",
    "    return frout;\n",
    "\n",
    "Gl=10*1.e-9\n",
    "Tw=200*1.e-3\n",
    "b=0.01*1e-9\n",
    "\n",
    "Ti=5*1.e-3\n",
    "Te=5*1.e-3\n",
    "Ee=0\n",
    "Ei=-80*1.e-3"
   ]
  },
  {
   "cell_type": "code",
   "execution_count": 25,
   "metadata": {},
   "outputs": [
    {
     "data": {
      "image/png": "[encoded data removed]",
      "text/plain": [
       "<Figure size 640x480 with 1 Axes>"
      ]
     },
     "metadata": {},
     "output_type": "display_data"
    }
   ],
   "source": [
    "fe = np.linspace(0,20,100)\n",
    "fi = 30\n",
    "if typ=='TC':\n",
    "    fout1 = TF2(PP,fe,fi,0, Nexc=800,Ninh=25,Qe=1e-9,Qi=6e-9,Cm=160e-12,El=-65e-3)\n",
    "    fout2 = TF2(PP,fe,fi,0, Nexc=800,Ninh=25,Qe=1e-9,Qi=6e-9,Cm=160e-12,El=-55e-3, noise=.3)\n",
    "    fout3 = TF2(PP,fe,fi,0, Nexc=800,Ninh=25,Qe=1e-9,Qi=6e-9,Cm=160e-12,El=-55e-3, noise=.1)\n",
    "# PP2=PP.copy()\n",
    "# PP2[2] = RE[2]\n",
    "# PP2[5]*=2\n",
    "# PP2[8] = RE[8]\n",
    "# PP2[9] = RE[9]\n",
    "if typ=='RE':\n",
    "    fout1 = TF2(PP,fe,fi,0, Nexc=400,Ninh=150,Qe=4e-9,Qi=1e-9,Cm=200e-12,El=-75e-3)\n",
    "    fout2 = TF2(PP,fe,fi,0, Nexc=400,Ninh=150,Qe=4e-9,Qi=1e-9,Cm=200e-12,El=-75e-3, noise=0.5)\n",
    "    fout3 = TF2(PP,fe,fi,0, Nexc=400,Ninh=150,Qe=4e-9,Qi=1e-9,Cm=200e-12,El=-75e-3, noise=0.1)\n",
    "\n",
    "plt.plot(fe,fout1,'black', label='$100\\%\\cdot\\sigma_V$')\n",
    "plt.plot(fe,fout2,'--r', label='$50\\%\\cdot\\sigma_V$')\n",
    "plt.plot(fe,fout3,'r', label='$10\\%\\cdot\\sigma_V$')\n",
    "\n",
    "plt.legend()\n",
    "plt.xlabel(\"excitatory frequency $f_e$ (Hz)\")\n",
    "plt.ylabel(\"output frequency TF$(f_e)$ (Hz)\")\n",
    "plt.title(\"__ at $f_{inh}=30$Hz\");\n",
    "# plt.savefig(\"NoiseTF_TC_new.png\", dpi=250)"
   ]
  },
  {
   "cell_type": "code",
   "execution_count": 19,
   "metadata": {},
   "outputs": [
    {
     "data": {
      "image/png": "[encoded data removed]",
      "text/plain": [
       "<Figure size 640x480 with 1 Axes>"
      ]
     },
     "metadata": {},
     "output_type": "display_data"
    }
   ],
   "source": [
    "fe = np.linspace(0,20,100)\n",
    "fi = 30\n",
    "fout1 = TF2(np.load('data\\\\NEW6params_TC.npy'),fe,fi,0, Nexc=800,Ninh=25,Qe=1e-9,Qi=6e-9,Cm=160e-12,El=-65e-3)\n",
    "fout2 = TF2(np.load('data\\\\NEW6params_RE.npy'),fe,fi,0, Nexc=400,Ninh=150,Qe=4e-9,Qi=1e-9,Cm=200e-12,El=-75e-3)\n",
    "\n",
    "plt.plot(fe,fout1,'b', label='TC')\n",
    "plt.plot(fe,fout2,'r', label='RE')\n",
    "\n",
    "plt.legend()\n",
    "plt.xlabel(\"excitatory frequency $f_e$ (Hz)\")\n",
    "plt.ylabel(\"output frequency TF$(f_e)$ (Hz)\")\n",
    "plt.title(f\"TFs at $f_i=30$Hz\");\n",
    "# plt.savefig(\"TF.png\", dpi=250)"
   ]
  },
  {
   "cell_type": "code",
   "execution_count": 8,
   "metadata": {},
   "outputs": [
    {
     "data": {
      "text/plain": [
       "[<matplotlib.lines.Line2D at 0x236c8599640>]"
      ]
     },
     "execution_count": 8,
     "metadata": {},
     "output_type": "execute_result"
    },
    {
     "data": {
      "image/png": "[encoded data removed]",
      "text/plain": [
       "<Figure size 432x288 with 1 Axes>"
      ]
     },
     "metadata": {
      "needs_background": "light"
     },
     "output_type": "display_data"
    }
   ],
   "source": [
    "fe = np.linspace(0,20,100)\n",
    "fi = 30\n",
    "# plt.plot(fi,TF2(PP,fe,fi,0, Nexc=800,Ninh=25,Qe=1e-9,Qi=6e-9,Cm=160e-12,El=-65e-3))\n",
    "plt.plot(fe,TF2(PP,fe,fi,0, Nexc=400,Ninh=150,Qe=4e-9,Qi=1e-9,Cm=200e-12,El=-75e-3))\n",
    "\n",
    "def der(fe,fi,dfe=1e-5,dfi=0):\n",
    "    # return (TF2(PP,fe+dfe/2,fi+dfi/2,0, Nexc=800,Ninh=25,Qe=1e-9,Qi=6e-9,Cm=160e-12,El=-65e-3) - TF2(PP,fe-dfe/2,fi-dfi/2,0, Nexc=800,Ninh=25,Qe=1e-9,Qi=6e-9,Cm=160e-12,El=-65e-3))/(dfe+dfi)\n",
    "    return (TF2(PP,fe+dfe/2,fi+dfi/2,0, Nexc=400,Ninh=150,Qe=4e-9,Qi=1e-9,Cm=200e-12,El=-75e-3) - TF2(PP,fe-dfe/2,fi-dfi/2,0, Nexc=400,Ninh=150,Qe=4e-9,Qi=1e-9,Cm=200e-12,El=-75e-3))/(dfe+dfi)\n",
    "plt.plot(fe,der(fe,fi))"
   ]
  }
 ],
 "metadata": {
  "kernelspec": {
   "display_name": "Python 3 (ipykernel)",
   "language": "python",
   "name": "python3"
  },
  "language_info": {
   "codemirror_mode": {
    "name": "ipython",
    "version": 3
   },
   "file_extension": ".py",
   "mimetype": "text/x-python",
   "name": "python",
   "nbconvert_exporter": "python",
   "pygments_lexer": "ipython3",
   "version": "3.10.9"
  },
  "vscode": {
   "interpreter": {
    "hash": "166b353f9a51e0294d6bf4c7e3c8198f30e024f55629c8d782167d6384a17e97"
   }
  }
 },
 "nbformat": 4,
 "nbformat_minor": 2
}
